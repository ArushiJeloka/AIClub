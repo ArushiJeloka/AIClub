{
 "cells": [
  {
   "cell_type": "markdown",
   "metadata": {},
   "source": [
    "# Loops and range()\n",
    "    - Loops are used to iterate through code multiple times without having to type the code in multiple times\n",
    "    - The range() function by default outputs a series of numbers starting at 0 by default going up to a specified number. It accepts 3 numbers seperated by colons: initial, end, increment"
   ]
  },
  {
   "cell_type": "code",
   "execution_count": 2,
   "metadata": {},
   "outputs": [
    {
     "name": "stdout",
     "output_type": "stream",
     "text": [
      "hello\n",
      "hello\n",
      "hello\n",
      "hello\n",
      "hello\n",
      "hello\n",
      "hello\n"
     ]
    }
   ],
   "source": [
    "#for loops \n",
    "\n",
    "for i in range (1,8):\n",
    "    print(\"hello\")"
   ]
  },
  {
   "cell_type": "code",
   "execution_count": 3,
   "metadata": {},
   "outputs": [
    {
     "name": "stdout",
     "output_type": "stream",
     "text": [
      "boi\n",
      "boi\n",
      "boi\n",
      "boi\n",
      "boi\n"
     ]
    }
   ],
   "source": [
    "#while loops\n",
    "k=0\n",
    "while k < 5:\n",
    "    print(\"boi\")\n",
    "    k+=1"
   ]
  },
  {
   "cell_type": "code",
   "execution_count": 4,
   "metadata": {},
   "outputs": [
    {
     "name": "stdout",
     "output_type": "stream",
     "text": [
      "0\n",
      "1\n",
      "2\n",
      "3\n",
      "4\n",
      "5\n",
      "6\n",
      "7\n",
      "8\n",
      "9\n",
      "10\n"
     ]
    }
   ],
   "source": [
    "# print numbers 0 - 10 \n",
    "\n",
    "for i in range (0, 11):\n",
    "    print(i)"
   ]
  },
  {
   "cell_type": "code",
   "execution_count": 5,
   "metadata": {},
   "outputs": [
    {
     "name": "stdout",
     "output_type": "stream",
     "text": [
      "55\n"
     ]
    }
   ],
   "source": [
    "# print the sum of the first 10 numbers\n",
    "\n",
    "sum = 0\n",
    "for i in range (1,11):\n",
    "    sum = sum + i\n",
    "    \n",
    "print(sum)"
   ]
  },
  {
   "cell_type": "code",
   "execution_count": 9,
   "metadata": {},
   "outputs": [
    {
     "name": "stdout",
     "output_type": "stream",
     "text": [
      "Enter a number: 9\n",
      "number is composite\n"
     ]
    }
   ],
   "source": [
    "# determine whether a number is prime or composite\n",
    "number = int(input(\"Enter a number: \"))\n",
    "\n",
    "for i in range(2, number // 2 + 1):\n",
    "    if number % i == 0:\n",
    "        print(\"number is composite\")\n",
    "        break\n",
    "else:\n",
    "    print(\"number is a prime number\")"
   ]
  },
  {
   "cell_type": "code",
   "execution_count": null,
   "metadata": {},
   "outputs": [],
   "source": []
  }
 ],
 "metadata": {
  "kernelspec": {
   "display_name": "Python 3",
   "language": "python",
   "name": "python3"
  },
  "language_info": {
   "codemirror_mode": {
    "name": "ipython",
    "version": 3
   },
   "file_extension": ".py",
   "mimetype": "text/x-python",
   "name": "python",
   "nbconvert_exporter": "python",
   "pygments_lexer": "ipython3",
   "version": "3.7.6"
  }
 },
 "nbformat": 4,
 "nbformat_minor": 2
}

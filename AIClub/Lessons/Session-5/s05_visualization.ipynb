{
 "cells": [
  {
   "cell_type": "markdown",
   "metadata": {},
   "source": [
    "<font color = 'purple'><h1>Matplotlib - Session 05</h1> </font>\n",
    "<font color = 'purple'><h1>Tabular Data</h1> </font>\n",
    "<font color='purple'>**Last Updated: 21 December 2020**</font> \n",
    "\n",
    "<font color = 'purple'><h2>I. Introduction</h1></font>\n",
    "<font color='#10C2AF'>Graphing is an integral part of data science, data analytics, and data visualization. It allows easier and more efficient interpretation when data is plentiful. Graphing and visualization is an important skill which is used widely in the professional world. \n",
    "</font> "
   ]
  },
  {
   "cell_type": "markdown",
   "metadata": {},
   "source": [
    "<font color = 'purple'><h2>II. Import and Structure data</h1></font>\n",
    "<font color='#10C2AF'><h2> A. Make a Pandas DataFrame</font> "
   ]
  },
  {
   "cell_type": "code",
   "execution_count": 2,
   "metadata": {},
   "outputs": [
    {
     "data": {
      "text/html": [
       "<div>\n",
       "<style scoped>\n",
       "    .dataframe tbody tr th:only-of-type {\n",
       "        vertical-align: middle;\n",
       "    }\n",
       "\n",
       "    .dataframe tbody tr th {\n",
       "        vertical-align: top;\n",
       "    }\n",
       "\n",
       "    .dataframe thead th {\n",
       "        text-align: right;\n",
       "    }\n",
       "</style>\n",
       "<table border=\"1\" class=\"dataframe\">\n",
       "  <thead>\n",
       "    <tr style=\"text-align: right;\">\n",
       "      <th></th>\n",
       "      <th>longitude</th>\n",
       "      <th>latitude</th>\n",
       "      <th>housing_median_age</th>\n",
       "      <th>total_rooms</th>\n",
       "      <th>total_bedrooms</th>\n",
       "      <th>population</th>\n",
       "      <th>households</th>\n",
       "      <th>median_income</th>\n",
       "      <th>median_house_value</th>\n",
       "      <th>ocean_proximity</th>\n",
       "    </tr>\n",
       "  </thead>\n",
       "  <tbody>\n",
       "    <tr>\n",
       "      <th>0</th>\n",
       "      <td>-122.23</td>\n",
       "      <td>37.88</td>\n",
       "      <td>41.0</td>\n",
       "      <td>880.0</td>\n",
       "      <td>129.0</td>\n",
       "      <td>322.0</td>\n",
       "      <td>126.0</td>\n",
       "      <td>8.3252</td>\n",
       "      <td>452600.0</td>\n",
       "      <td>NEAR BAY</td>\n",
       "    </tr>\n",
       "    <tr>\n",
       "      <th>1</th>\n",
       "      <td>-122.22</td>\n",
       "      <td>37.86</td>\n",
       "      <td>21.0</td>\n",
       "      <td>7099.0</td>\n",
       "      <td>1106.0</td>\n",
       "      <td>2401.0</td>\n",
       "      <td>1138.0</td>\n",
       "      <td>8.3014</td>\n",
       "      <td>358500.0</td>\n",
       "      <td>NEAR BAY</td>\n",
       "    </tr>\n",
       "    <tr>\n",
       "      <th>2</th>\n",
       "      <td>-122.24</td>\n",
       "      <td>37.85</td>\n",
       "      <td>52.0</td>\n",
       "      <td>1467.0</td>\n",
       "      <td>190.0</td>\n",
       "      <td>496.0</td>\n",
       "      <td>177.0</td>\n",
       "      <td>7.2574</td>\n",
       "      <td>352100.0</td>\n",
       "      <td>NEAR BAY</td>\n",
       "    </tr>\n",
       "    <tr>\n",
       "      <th>3</th>\n",
       "      <td>-122.25</td>\n",
       "      <td>37.85</td>\n",
       "      <td>52.0</td>\n",
       "      <td>1274.0</td>\n",
       "      <td>235.0</td>\n",
       "      <td>558.0</td>\n",
       "      <td>219.0</td>\n",
       "      <td>5.6431</td>\n",
       "      <td>341300.0</td>\n",
       "      <td>NEAR BAY</td>\n",
       "    </tr>\n",
       "    <tr>\n",
       "      <th>4</th>\n",
       "      <td>-122.25</td>\n",
       "      <td>37.85</td>\n",
       "      <td>52.0</td>\n",
       "      <td>1627.0</td>\n",
       "      <td>280.0</td>\n",
       "      <td>565.0</td>\n",
       "      <td>259.0</td>\n",
       "      <td>3.8462</td>\n",
       "      <td>342200.0</td>\n",
       "      <td>NEAR BAY</td>\n",
       "    </tr>\n",
       "  </tbody>\n",
       "</table>\n",
       "</div>"
      ],
      "text/plain": [
       "   longitude  latitude  housing_median_age  total_rooms  total_bedrooms  \\\n",
       "0    -122.23     37.88                41.0        880.0           129.0   \n",
       "1    -122.22     37.86                21.0       7099.0          1106.0   \n",
       "2    -122.24     37.85                52.0       1467.0           190.0   \n",
       "3    -122.25     37.85                52.0       1274.0           235.0   \n",
       "4    -122.25     37.85                52.0       1627.0           280.0   \n",
       "\n",
       "   population  households  median_income  median_house_value ocean_proximity  \n",
       "0       322.0       126.0         8.3252            452600.0        NEAR BAY  \n",
       "1      2401.0      1138.0         8.3014            358500.0        NEAR BAY  \n",
       "2       496.0       177.0         7.2574            352100.0        NEAR BAY  \n",
       "3       558.0       219.0         5.6431            341300.0        NEAR BAY  \n",
       "4       565.0       259.0         3.8462            342200.0        NEAR BAY  "
      ]
     },
     "execution_count": 2,
     "metadata": {},
     "output_type": "execute_result"
    }
   ],
   "source": [
    "import pandas as pd\n",
    "import matplotlib.pyplot as plt\n",
    "import numpy as np\n",
    "house = pd.read_csv(\"housing.csv\")\n",
    "house.head()"
   ]
  },
  {
   "cell_type": "markdown",
   "metadata": {},
   "source": [
    "<font color='#10C2AF'>In the last sessions, we went over the basics of pandas and numpy. This week, we will explore matplotlib. Pandas is used to format the data, which allows matplotlib and numpy to further analyze and visualize the data.  </font>"
   ]
  },
  {
   "cell_type": "code",
   "execution_count": 28,
   "metadata": {},
   "outputs": [],
   "source": [
    "house.drop(columns =['longitude', 'latitude', 'ocean_proximity'], inplace = True) "
   ]
  },
  {
   "cell_type": "code",
   "execution_count": 29,
   "metadata": {},
   "outputs": [
    {
     "data": {
      "text/plain": [
       "Index(['housing_median_age', 'total_rooms', 'total_bedrooms', 'population',\n",
       "       'households', 'median_income', 'median_house_value'],\n",
       "      dtype='object')"
      ]
     },
     "execution_count": 29,
     "metadata": {},
     "output_type": "execute_result"
    }
   ],
   "source": [
    "house.columns"
   ]
  },
  {
   "cell_type": "markdown",
   "metadata": {},
   "source": [
    "<font color = 'purple'><h2>II. Plotting</h1></font>\n",
    "<font color='#10C2AF'><h2> A. Curate Data</font> "
   ]
  },
  {
   "cell_type": "code",
   "execution_count": 20,
   "metadata": {},
   "outputs": [],
   "source": [
    "mhv = list(house.sample(n = 200, random_state = 100)['median_house_value'])\n",
    "mhi = list(house.sample(n = 200, random_state = 100)['median_income'] * 10000)"
   ]
  },
  {
   "cell_type": "markdown",
   "metadata": {},
   "source": [
    "<font color='#10C2AF'> \n",
    "In the cell above, we randomly selected 200 rows of median house value and median income from the pandas dataframe and converted the data to lists. In the next cell, the first 10 items of each list are printed. We chose 200 random rows because it simplifies the data to allow the user to see a cleaner trend while still maintaining the deviation between points.\n",
    "</font> "
   ]
  },
  {
   "cell_type": "code",
   "execution_count": 22,
   "metadata": {},
   "outputs": [
    {
     "name": "stdout",
     "output_type": "stream",
     "text": [
      "[245300.0, 104200.0, 146200.0, 154200.0, 324200.0, 141100.0, 227300.0, 202300.0, 170200.0, 301800.0]\n",
      "[37031.0, 12475.0, 48266.0, 28833.000000000004, 28903.0, 27734.0, 48750.0, 55425.00000000001, 24063.0, 56756.0]\n"
     ]
    }
   ],
   "source": [
    "print(mhv[:10])\n",
    "print(mhi[:10])"
   ]
  },
  {
   "cell_type": "markdown",
   "metadata": {},
   "source": [
    "<font color='#10C2AF'><h2> B. Code the Graphs</font> \n"
   ]
  },
  {
   "cell_type": "code",
   "execution_count": 23,
   "metadata": {},
   "outputs": [
    {
     "data": {
      "image/png": "[encoded data removed]",
      "text/plain": [
       "<Figure size 432x288 with 1 Axes>"
      ]
     },
     "metadata": {
      "needs_background": "light"
     },
     "output_type": "display_data"
    }
   ],
   "source": [
    "scatterboi = plt.scatter(mhi, mhv) #creates a scatterplot object. The first parameter is the x-axis variable and the second parameter is the y-axis variable. \n",
    "plt.xlabel(\"Median Income\") #label for the x-axis\n",
    "plt.ylabel(\"Median House Value\") #label for the y-axis\n",
    "plt.plot(np.unique(mhi), np.poly1d(np.polyfit(mhi, mhv, 1))(np.unique(mhi))) #draws a line of best fit from the data points\n",
    "ax = plt.gca() # gets an instance of the current axes (so everything that is in black is an object)\n",
    "ax.set_facecolor('#000000') #colors the background of the object we created in the last line"
   ]
  },
  {
   "cell_type": "markdown",
   "metadata": {},
   "source": [
    "<font color='#10C2AF'> \n",
    "This is a scatterplot with Median Income on the x-axis and Median House Value on the y-axis. It uses numpy to draw a line of best fit which makes it easier to visualize the data trend. It makes a line of best fit by testing the squares of the distances between the line and points on the scatterplot. It finally makes a line of best fit that minimizes the square of the distances. \n",
    "</font> "
   ]
  },
  {
   "cell_type": "code",
   "execution_count": 24,
   "metadata": {},
   "outputs": [
    {
     "data": {
      "image/png": "[encoded data removed]",
      "text/plain": [
       "<Figure size 432x288 with 1 Axes>"
      ]
     },
     "metadata": {
      "needs_background": "light"
     },
     "output_type": "display_data"
    }
   ],
   "source": [
    "plt.hist(mhv, bins = 5, color = '#ff9d00', edgecolor = 'w') \n",
    "plt.xlabel(\"Median House Value\")\n",
    "ax = plt.gca()\n",
    "ax.set_facecolor('#000000')"
   ]
  },
  {
   "cell_type": "markdown",
   "metadata": {},
   "source": [
    "<font color='#10C2AF'> \n",
    "In the cell above, we created a histogram of median house value. The parameters for .hist() in the example above are the list of data we want to graph, the number of bars we want to categorize the data in, the color of the bars, and the color of the outline of the bars.\n",
    "</font>"
   ]
  },
  {
   "cell_type": "code",
   "execution_count": 25,
   "metadata": {},
   "outputs": [
    {
     "data": {
      "image/png": "[encoded data removed]",
      "text/plain": [
       "<Figure size 432x288 with 1 Axes>"
      ]
     },
     "metadata": {
      "needs_background": "light"
     },
     "output_type": "display_data"
    }
   ],
   "source": [
    "plt.hist(mhv, bins = 5, color = '#ff9d00', edgecolor = 'w', orientation = 'horizontal') #thy last parameter makes the bar graph orient horizontally\n",
    "plt.ylabel(\"Median House Value\")\n",
    "plt.title(\"mhv\") #this adds the 'mhv' title to the graph\n",
    "ax = plt.gca()\n",
    "ax.set_facecolor('#000000')"
   ]
  },
  {
   "cell_type": "code",
   "execution_count": 26,
   "metadata": {},
   "outputs": [],
   "source": [
    "labels = '0 to 100k', '100k to 200k', '200k to 300k', '300k to 400k', '400k to 500k'\n",
    "one = 0\n",
    "two = 0\n",
    "three = 0\n",
    "four = 0\n",
    "five = 0\n",
    "for i in range(len(mhv)):\n",
    "    if(mhv[i] > 400000):\n",
    "        five += 1\n",
    "    elif(mhv[i] > 300000):\n",
    "        four += 1\n",
    "    elif(mhv[i] > 200000):\n",
    "        three += 1\n",
    "    elif(mhv[i] > 100000):\n",
    "        two += 1\n",
    "    elif(mhv[i] > 0):\n",
    "        one += 1\n",
    "    \n",
    "data = [one, two, three, four, five]"
   ]
  },
  {
   "cell_type": "markdown",
   "metadata": {},
   "source": [
    "<font color='#10C2AF'> \n",
    "In the cell above, we had to manually process the data by categorizing into 5 categories. In each if-block, we added 1 to the corresponding category's variable to count the amount of data per category. Then, we loaded all the variables into a list called data for the next cell.\n",
    "</font> "
   ]
  },
  {
   "cell_type": "code",
   "execution_count": 27,
   "metadata": {},
   "outputs": [
    {
     "data": {
      "image/png": "[encoded data removed]",
      "text/plain": [
       "<Figure size 432x288 with 1 Axes>"
      ]
     },
     "metadata": {},
     "output_type": "display_data"
    }
   ],
   "source": [
    "fig1, ax1 = plt.subplots()\n",
    "ax1.pie(data, labels=labels, autopct='%1.1f%%', startangle=90)\n",
    "ax1.axis('equal')\n",
    "plt.show()"
   ]
  },
  {
   "cell_type": "markdown",
   "metadata": {},
   "source": [
    "<font color='#10C2AF'> \n",
    " \n",
    "</font> "
   ]
  },
  {
   "cell_type": "markdown",
   "metadata": {},
   "source": [
    "<font color='#10C2AF'> \n",
    "The pie chart in the cell above is created using the labels and the corresponding data from the prior cell. In ax1.pie(), the first parameter is the data, and the second specification is the respective labels. The autopct='%1.1f%%' specifies the percentage each category takes up on the pie chart and the start angle, which is set to 90, sets the division between 2 sectors of the chart to point directly North of the chart. This is just for visual appeal and has no logical impact on how the data is presented.\n",
    "</font> "
   ]
  }
 ],
 "metadata": {
  "kernelspec": {
   "display_name": "Python 3",
   "language": "python",
   "name": "python3"
  },
  "language_info": {
   "codemirror_mode": {
    "name": "ipython",
    "version": 3
   },
   "file_extension": ".py",
   "mimetype": "text/x-python",
   "name": "python",
   "nbconvert_exporter": "python",
   "pygments_lexer": "ipython3",
   "version": "3.7.6"
  }
 },
 "nbformat": 4,
 "nbformat_minor": 4
}

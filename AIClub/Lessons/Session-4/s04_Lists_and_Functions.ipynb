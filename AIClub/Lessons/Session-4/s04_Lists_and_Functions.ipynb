{
 "cells": [
  {
   "cell_type": "markdown",
   "metadata": {},
   "source": [
    "# Lists and Functions\n",
    "    - A list is a data structure, defined by having values between square brackets [ ], that is a mutable, or changeable, ordered sequence of elements. Each element or value that is inside of a list is called an item. \n",
    "    - A function is a block of code which only runs when it is called. Parameters can be passed in and data can be returned from functions."
   ]
  },
  {
   "cell_type": "code",
   "execution_count": 1,
   "metadata": {},
   "outputs": [
    {
     "name": "stdout",
     "output_type": "stream",
     "text": [
      "['apple', 3, 'hello', True]\n",
      "4\n",
      "<class 'bool'>\n"
     ]
    }
   ],
   "source": [
    "# Lists are defined using [] and can hold multiple values of any type\n",
    "list1 = [\"apple\", 3, \"hello\", True]\n",
    "print(list1)\n",
    "print(len(list1))\n",
    "print(type(list1[3]))"
   ]
  },
  {
   "cell_type": "code",
   "execution_count": 2,
   "metadata": {},
   "outputs": [
    {
     "name": "stdout",
     "output_type": "stream",
     "text": [
      "['1', '2', '3', '5']\n",
      "['1', '2', '3', '5', 'hello']\n"
     ]
    }
   ],
   "source": [
    "# You can remove and add values to a list\n",
    "list2 = [\"1\", \"2\", \"3\", \"4\", \"5\"]\n",
    "list2.pop(3) #removes value at 3rd index\n",
    "print(list2)\n",
    "list2.append(\"hello\") #adds hello to the end of the list\n",
    "print(list2)"
   ]
  },
  {
   "cell_type": "code",
   "execution_count": 3,
   "metadata": {},
   "outputs": [
    {
     "name": "stdout",
     "output_type": "stream",
     "text": [
      "['1', 3, '2', '4', '5']\n"
     ]
    }
   ],
   "source": [
    "list2 = [\"1\", \"2\", \"3\", \"4\", \"5\"]\n",
    "list2.remove(\"3\") #removes the string \"3\" from the list\n",
    "list2.insert(1, 3) #inserts number 3 at index 1\n",
    "print(list2)"
   ]
  },
  {
   "cell_type": "code",
   "execution_count": 10,
   "metadata": {},
   "outputs": [
    {
     "name": "stdout",
     "output_type": "stream",
     "text": [
      "['orange', 839, '84848', True, '7.3939']\n",
      "[<class 'str'>, <class 'int'>, <class 'str'>, <class 'bool'>, <class 'str'>]\n"
     ]
    }
   ],
   "source": [
    "# Loop through a list with 5 items and print the type, length and value of each item\n",
    "list2 = [\"orange\", 839, \"84848\", True, \"7.3939\"]\n",
    "typelist = []\n",
    "lengthlist = []\n",
    "for i in range(len(list2)):\n",
    "    typelist.append(type(list2[i]))\n",
    "    #lengthlist.append(len(list2[i]))\n",
    "print(list2)\n",
    "print(typelist)\n",
    "#print(lengthlist)"
   ]
  },
  {
   "cell_type": "code",
   "execution_count": 11,
   "metadata": {},
   "outputs": [
    {
     "name": "stdout",
     "output_type": "stream",
     "text": [
      "why not\n"
     ]
    }
   ],
   "source": [
    "# functions are defined using def\n",
    "def whynot():\n",
    "    print(\"why not\")\n",
    "whynot()"
   ]
  },
  {
   "cell_type": "code",
   "execution_count": 12,
   "metadata": {},
   "outputs": [
    {
     "name": "stdout",
     "output_type": "stream",
     "text": [
      "awesomeio\n"
     ]
    }
   ],
   "source": [
    "# they can have parameters within (), the return statements return a value when the function is called\n",
    "def welp(str1):\n",
    "    str1 = str1 + \"io\"\n",
    "    return str1\n",
    "print(welp(\"awesome\"))"
   ]
  },
  {
   "cell_type": "code",
   "execution_count": 19,
   "metadata": {},
   "outputs": [
    {
     "name": "stdout",
     "output_type": "stream",
     "text": [
      "[(5, 'apple'), (5, 'grape'), (7, 'bananas')]\n",
      "bananas\n"
     ]
    }
   ],
   "source": [
    "# write a function to print the longest word from a list of words\n",
    "def randomname(array):\n",
    "    word = []\n",
    "    for n in array:\n",
    "        word.append((len(n), n))\n",
    "    word.sort()\n",
    "    print(word)\n",
    "    return word[-1][1]\n",
    "    \n",
    "print(randomname([\"bananas\", \"apple\", \"grape\"]))"
   ]
  },
  {
   "cell_type": "markdown",
   "metadata": {},
   "source": [
    "More list commands: https://docs.python.org/3/tutorial/datastructures.html "
   ]
  }
 ],
 "metadata": {
  "kernelspec": {
   "display_name": "Python 3",
   "language": "python",
   "name": "python3"
  },
  "language_info": {
   "codemirror_mode": {
    "name": "ipython",
    "version": 3
   },
   "file_extension": ".py",
   "mimetype": "text/x-python",
   "name": "python",
   "nbconvert_exporter": "python",
   "pygments_lexer": "ipython3",
   "version": "3.7.6"
  }
 },
 "nbformat": 4,
 "nbformat_minor": 2
}

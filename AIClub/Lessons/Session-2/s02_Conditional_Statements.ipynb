{
 "cells": [
  {
   "cell_type": "markdown",
   "metadata": {},
   "source": [
    "# Conditional Statements\n",
    "\n",
    "Conditional statements or conditional constructs are used to perform different computations or actions depending on whether a condition evaluates to true or false. The most common conditional statements in Python are if, elif, and else.\n",
    "\n",
    "     - if is used to check whether a condition is true and if it is, the code within the statement is executed\n",
    "     - elif is when you want multiple if statements\n",
    "     - else is the last condition used. The code in the else clause is run if the conditions in the if or elif are not met"
   ]
  },
  {
   "cell_type": "code",
   "execution_count": 1,
   "metadata": {},
   "outputs": [
    {
     "name": "stdout",
     "output_type": "stream",
     "text": [
      "yes\n"
     ]
    }
   ],
   "source": [
    "if(1 == 2):\n",
    "    print(\"no\")\n",
    "if(1 == 1):\n",
    "    print(\"yes\")"
   ]
  },
  {
   "cell_type": "code",
   "execution_count": 3,
   "metadata": {},
   "outputs": [
    {
     "name": "stdout",
     "output_type": "stream",
     "text": [
      "yes\n",
      "yes yes\n",
      "yes yes yes\n"
     ]
    }
   ],
   "source": [
    "x = 35\n",
    "if x > 10:\n",
    "    print(\"yes\")\n",
    "elif x > 20:\n",
    "    print(\"yes yes\")\n",
    "elif x > 30:\n",
    "    print(\"yes yes yes\")"
   ]
  },
  {
   "cell_type": "code",
   "execution_count": 4,
   "metadata": {},
   "outputs": [
    {
     "name": "stdout",
     "output_type": "stream",
     "text": [
      "yes yes yes yes\n"
     ]
    }
   ],
   "source": [
    "x = 4\n",
    "if x > 10:\n",
    "    print(\"yes\")\n",
    "if x > 20:\n",
    "    print(\"yes yes\")\n",
    "if x > 30:\n",
    "    print(\"yes yes yes\")\n",
    "else:\n",
    "    print(\"yes yes yes yes\")"
   ]
  },
  {
   "cell_type": "code",
   "execution_count": 5,
   "metadata": {},
   "outputs": [
    {
     "name": "stdout",
     "output_type": "stream",
     "text": [
      "big boi\n"
     ]
    }
   ],
   "source": [
    "y = 15\n",
    "if y < 10:\n",
    "    print(\"tiny boi\")\n",
    "else:\n",
    "    print(\"big boi\")"
   ]
  },
  {
   "cell_type": "code",
   "execution_count": 17,
   "metadata": {},
   "outputs": [
    {
     "name": "stdout",
     "output_type": "stream",
     "text": [
      "even\n"
     ]
    }
   ],
   "source": [
    "# check if a number is odd or even \n",
    "x = 12\n",
    "if x % 2 == 0:\n",
    "    print(\"even\")\n",
    "elif x % 2 != 0:\n",
    "    print(\"odd\")"
   ]
  },
  {
   "cell_type": "code",
   "execution_count": 18,
   "metadata": {},
   "outputs": [
    {
     "name": "stdout",
     "output_type": "stream",
     "text": [
      "yay\n"
     ]
    }
   ],
   "source": [
    "# print \"yay\" if a number is divisible by 2 and 3\n",
    "if x % 2 == 0 and x % 3 == 0:\n",
    "    print(\"yay\")"
   ]
  },
  {
   "cell_type": "code",
   "execution_count": 19,
   "metadata": {},
   "outputs": [
    {
     "name": "stdout",
     "output_type": "stream",
     "text": [
      "good\n"
     ]
    }
   ],
   "source": [
    "# print \"good\" if a number is divisible by 4 or 5\n",
    "if x % 4 == 0 or x % 5 == 0:\n",
    "    print(\"good\")"
   ]
  },
  {
   "cell_type": "code",
   "execution_count": 20,
   "metadata": {},
   "outputs": [
    {
     "name": "stdout",
     "output_type": "stream",
     "text": [
      "Enter a decimal: 3.14\n",
      "between 3 and 4\n"
     ]
    }
   ],
   "source": [
    "# get a decimal user input and check which interval the number lies in (intervals of 1 from 0 - 5)\n",
    "val = float(input(\"Enter a decimal: \"))\n",
    "if(val >= 0 and val < 1):\n",
    "    print(\"between 0 and 1\")\n",
    "elif(val >= 1 and val < 2):\n",
    "    print(\"between 1 and 2\")\n",
    "elif(val >= 2 and val < 3):\n",
    "    print(\"between 2 and 3\")\n",
    "elif(val >= 3 and val < 4):\n",
    "    print(\"between 3 and 4\")\n",
    "elif(val >= 4 and val < 5):\n",
    "    print(\"between 4 and 5\")"
   ]
  }
 ],
 "metadata": {
  "kernelspec": {
   "display_name": "Python 3",
   "language": "python",
   "name": "python3"
  },
  "language_info": {
   "codemirror_mode": {
    "name": "ipython",
    "version": 3
   },
   "file_extension": ".py",
   "mimetype": "text/x-python",
   "name": "python",
   "nbconvert_exporter": "python",
   "pygments_lexer": "ipython3",
   "version": "3.7.6"
  }
 },
 "nbformat": 4,
 "nbformat_minor": 2
}

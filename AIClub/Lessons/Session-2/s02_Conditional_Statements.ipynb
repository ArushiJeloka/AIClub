{
 "cells": [
  {
   "cell_type": "markdown",
   "metadata": {},
   "source": [
    "# Conditional Statements\n",
    "\n",
    "Conditional statements or conditional constructs are used to perform different computations or actions depending on whether a condition evaluates to true or false. The most common conditional statements in Python are if, elif, and else.\n",
    "\n",
    "     - if is used to check whether a condition is true and if it is, the code within the statement is executed\n",
    "     - elif is when you want multiple if statements\n",
    "     - else is the last condition used. The code in the else clause is run if the conditions in the if or elif are not met"
   ]
  },
  {
   "cell_type": "code",
   "execution_count": null,
   "metadata": {},
   "outputs": [],
   "source": [
    "if(1 == 2):\n",
    "    print(\"no\")\n",
    "if(1 == 1):\n",
    "    print(\"yes\")"
   ]
  },
  {
   "cell_type": "code",
   "execution_count": null,
   "metadata": {},
   "outputs": [],
   "source": [
    "x = 35\n",
    "if x > 10:\n",
    "    print(\"yes\")\n",
    "elif x > 20:\n",
    "    print(\"yes yes\")\n",
    "elif x > 30:\n",
    "    print(\"yes yes yes\")"
   ]
  },
  {
   "cell_type": "code",
   "execution_count": null,
   "metadata": {},
   "outputs": [],
   "source": [
    "x = 35\n",
    "if x > 10:\n",
    "    print(\"yes\")\n",
    "if x > 20:\n",
    "    print(\"yes yes\")\n",
    "if x > 30:\n",
    "    print(\"yes yes yes\")\n",
    "else:\n",
    "    print(\"yes yes yes yes\")"
   ]
  },
  {
   "cell_type": "code",
   "execution_count": null,
   "metadata": {},
   "outputs": [],
   "source": [
    "y = 15\n",
    "if y < 10:\n",
    "    print(\"tiny boi\")\n",
    "else:\n",
    "    print(\"big boi\")"
   ]
  }
 ],
 "metadata": {
  "kernelspec": {
   "display_name": "Python 3",
   "language": "python",
   "name": "python3"
  },
  "language_info": {
   "codemirror_mode": {
    "name": "ipython",
    "version": 3
   },
   "file_extension": ".py",
   "mimetype": "text/x-python",
   "name": "python",
   "nbconvert_exporter": "python",
   "pygments_lexer": "ipython3",
   "version": "3.7.6"
  }
 },
 "nbformat": 4,
 "nbformat_minor": 2
}
